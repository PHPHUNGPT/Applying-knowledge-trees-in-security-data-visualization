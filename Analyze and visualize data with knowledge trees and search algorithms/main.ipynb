{
 "cells": [
  {
   "cell_type": "code",
   "execution_count": 8,
   "metadata": {},
   "outputs": [
    {
     "name": "stderr",
     "output_type": "stream",
     "text": [
      "2024-06-10 21:31:04.152 \n",
      "  \u001b[33m\u001b[1mWarning:\u001b[0m to view this Streamlit app on a browser, run it with the following\n",
      "  command:\n",
      "\n",
      "    streamlit run C:\\Users\\FPT\\AppData\\Roaming\\Python\\Python312\\site-packages\\ipykernel_launcher.py [ARGUMENTS]\n",
      "2024-06-10 21:31:04.397 Session state does not function when running a script without `streamlit run`\n"
     ]
    }
   ],
   "source": [
    "# streamlit_app.py\n",
    "import streamlit as st\n",
    "import pandas as pd\n",
    "import matplotlib.pyplot as plt\n",
    "\n",
    "# Đọc dữ liệu\n",
    "file_path = 'Hình ảnh.csv'\n",
    "data = pd.read_csv(file_path)\n",
    "\n",
    "# Xây dựng ứng dụng Streamlit\n",
    "st.title('Ứng dụng Phân Tích và Trực Quan Hóa Dữ Liệu')\n",
    "\n",
    "# Hiển thị dữ liệu\n",
    "st.subheader('Dữ liệu gốc')\n",
    "st.dataframe(data)\n",
    "\n",
    "# Phân tích dữ liệu\n",
    "st.subheader('Phân tích dữ liệu')\n",
    "st.write('Tổng số ảnh:', len(data))\n",
    "st.write('Số lượng ảnh có thông tin:', data['Ảnh'].count())\n",
    "\n",
    "# Trực quan hóa kích thước ảnh\n",
    "st.subheader('Trực quan hóa kích thước ảnh')\n",
    "fig, ax = plt.subplots()\n",
    "ax.hist(data['Chiều rộng gốc'].dropna(), bins=30, alpha=0.7, label='Chiều rộng gốc')\n",
    "ax.hist(data['Chiều cao gốc'].dropna(), bins=30, alpha=0.7, label='Chiều cao gốc')\n",
    "ax.set_xlabel('Kích thước (pixel)')\n",
    "ax.set_ylabel('Số lượng ảnh')\n",
    "ax.legend()\n",
    "st.pyplot(fig)\n",
    "\n",
    "# Tìm kiếm trong dữ liệu\n",
    "st.subheader('Tìm kiếm trong dữ liệu')\n",
    "query = st.text_input('Nhập từ khóa để tìm kiếm')\n",
    "if query:\n",
    "    results = data[data.apply(lambda row: query.lower() in row.to_string().lower(), axis=1)]\n",
    "    st.write('Kết quả tìm kiếm:', len(results))\n",
    "    st.dataframe(results)\n"
   ]
  }
 ],
 "metadata": {
  "kernelspec": {
   "display_name": "Python 3",
   "language": "python",
   "name": "python3"
  },
  "language_info": {
   "codemirror_mode": {
    "name": "ipython",
    "version": 3
   },
   "file_extension": ".py",
   "mimetype": "text/x-python",
   "name": "python",
   "nbconvert_exporter": "python",
   "pygments_lexer": "ipython3",
   "version": "3.12.3"
  }
 },
 "nbformat": 4,
 "nbformat_minor": 2
}
